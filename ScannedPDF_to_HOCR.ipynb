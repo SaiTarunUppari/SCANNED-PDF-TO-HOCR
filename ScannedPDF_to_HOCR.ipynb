{
  "nbformat": 4,
  "nbformat_minor": 0,
  "metadata": {
    "colab": {
      "name": "ScannedPDF_to_HOCR.ipynb",
      "provenance": [],
      "collapsed_sections": [],
      "authorship_tag": "ABX9TyNPoOAbbNTGPuqYg7vZsRJb",
      "include_colab_link": true
    },
    "kernelspec": {
      "display_name": "Python 3",
      "name": "python3"
    },
    "language_info": {
      "name": "python"
    }
  },
  "cells": [
    {
      "cell_type": "markdown",
      "metadata": {
        "id": "view-in-github",
        "colab_type": "text"
      },
      "source": [
        "<a href=\"https://colab.research.google.com/github/SaiTarunUppari/SCANNED-PDF-TO-HOCR/blob/main/ScannedPDF_to_HOCR.ipynb\" target=\"_parent\"><img src=\"https://colab.research.google.com/assets/colab-badge.svg\" alt=\"Open In Colab\"/></a>"
      ]
    },
    {
      "cell_type": "code",
      "metadata": {
        "id": "WzQH4I6S_hU-"
      },
      "source": [
        "############# SCRIPT IS VERY SLOW...NEEDS OPTIMIZATION #############\n",
        "!sudo apt install tesseract-ocr\n",
        "!apt-get install poppler-utils\n",
        "!pip install pdf2image\n",
        "!pip install pytesseract\n",
        "!pip install pypdf2\n",
        "!sudo apt install imagemagick\n",
        "import re\n",
        "from pdf2image import convert_from_path\n",
        "import pytesseract \n",
        "pytesseract.pytesseract.tesseract_cmd = r'/usr/bin/tesseract'\n",
        "import time"
      ],
      "execution_count": null,
      "outputs": []
    },
    {
      "cell_type": "code",
      "metadata": {
        "id": "UE_hUnlZCJvd"
      },
      "source": [
        "from google.colab import files\n",
        "uploaded = files.upload()"
      ],
      "execution_count": null,
      "outputs": []
    },
    {
      "cell_type": "code",
      "metadata": {
        "id": "y1KW9yjeKXa_"
      },
      "source": [
        "filename = next(iter(uploaded))\n",
        "# count = re.search('(?<=Count )\\d+', str(uploaded[filename]))"
      ],
      "execution_count": null,
      "outputs": []
    },
    {
      "cell_type": "code",
      "metadata": {
        "id": "MTgV0QHwEsmi",
        "colab": {
          "base_uri": "https://localhost:8080/"
        },
        "outputId": "df029a3b-29ce-4196-dc44-3fc7725733f3"
      },
      "source": [
        "start_time = time.time()\n",
        "images = convert_from_path(filename)\n",
        "for i in range(len(images)):\n",
        "  pdf = pytesseract.image_to_pdf_or_hocr(images[i], extension='pdf')\n",
        "  with open('page_{}.pdf'.format(i), 'w+b') as f:\n",
        "    f.write(pdf) # pdf type is bytes by default\n",
        "end_time = time.time()\n",
        "print(\"hocr finished in\",(end_time-start_time)/60,'minutes')"
      ],
      "execution_count": null,
      "outputs": [
        {
          "output_type": "stream",
          "text": [
            "hocr finished in 1.9069895827770234 seconds\n"
          ],
          "name": "stdout"
        }
      ]
    },
    {
      "cell_type": "code",
      "metadata": {
        "id": "N_Tg7q1wF-HG",
        "colab": {
          "base_uri": "https://localhost:8080/"
        },
        "outputId": "16d59b77-7427-4e1d-9325-e433b30baea9"
      },
      "source": [
        "from PyPDF2 import PdfFileMerger\n",
        "start_time = time.time()\n",
        "pdfs = []\n",
        "for i in range(len(images)):\n",
        "    pdfs.append(\"page_{}.pdf\".format(i))\n",
        "\n",
        "merger = PdfFileMerger()\n",
        "\n",
        "for pdf in pdfs:\n",
        "    merger.append(pdf)\n",
        "\n",
        "merger.write('searchable'+filename)\n",
        "merger.close()\n",
        "end_time = time.time()\n",
        "print(\"merging finished in\",(end_time-start_time)/1000,'seconds')\n"
      ],
      "execution_count": null,
      "outputs": [
        {
          "output_type": "stream",
          "text": [
            "merging finished in 0.0023573205471038817 seconds\n"
          ],
          "name": "stdout"
        }
      ]
    },
    {
      "cell_type": "code",
      "metadata": {
        "id": "bIDs3LXevwXw",
        "colab": {
          "base_uri": "https://localhost:8080/",
          "height": 34
        },
        "outputId": "e1f3e998-caeb-4205-c6b4-70620a81b025"
      },
      "source": [
        "files.download('searchable_'+filename)"
      ],
      "execution_count": null,
      "outputs": [
        {
          "output_type": "display_data",
          "data": {
            "application/javascript": [
              "\n",
              "    async function download(id, filename, size) {\n",
              "      if (!google.colab.kernel.accessAllowed) {\n",
              "        return;\n",
              "      }\n",
              "      const div = document.createElement('div');\n",
              "      const label = document.createElement('label');\n",
              "      label.textContent = `Downloading \"${filename}\": `;\n",
              "      div.appendChild(label);\n",
              "      const progress = document.createElement('progress');\n",
              "      progress.max = size;\n",
              "      div.appendChild(progress);\n",
              "      document.body.appendChild(div);\n",
              "\n",
              "      const buffers = [];\n",
              "      let downloaded = 0;\n",
              "\n",
              "      const channel = await google.colab.kernel.comms.open(id);\n",
              "      // Send a message to notify the kernel that we're ready.\n",
              "      channel.send({})\n",
              "\n",
              "      for await (const message of channel.messages) {\n",
              "        // Send a message to notify the kernel that we're ready.\n",
              "        channel.send({})\n",
              "        if (message.buffers) {\n",
              "          for (const buffer of message.buffers) {\n",
              "            buffers.push(buffer);\n",
              "            downloaded += buffer.byteLength;\n",
              "            progress.value = downloaded;\n",
              "          }\n",
              "        }\n",
              "      }\n",
              "      const blob = new Blob(buffers, {type: 'application/binary'});\n",
              "      const a = document.createElement('a');\n",
              "      a.href = window.URL.createObjectURL(blob);\n",
              "      a.download = filename;\n",
              "      div.appendChild(a);\n",
              "      a.click();\n",
              "      div.remove();\n",
              "    }\n",
              "  "
            ],
            "text/plain": [
              "<IPython.core.display.Javascript object>"
            ]
          },
          "metadata": {
            "tags": []
          }
        },
        {
          "output_type": "display_data",
          "data": {
            "application/javascript": [
              "download(\"download_18ec6eb4-aae0-4c88-8511-c3a88155037c\", \"searchableAirport engineering -rangwala.pdf\", 106869664)"
            ],
            "text/plain": [
              "<IPython.core.display.Javascript object>"
            ]
          },
          "metadata": {
            "tags": []
          }
        }
      ]
    }
  ]
}